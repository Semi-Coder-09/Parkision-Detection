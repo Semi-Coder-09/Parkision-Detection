{
  "cells": [
    {
      "cell_type": "markdown",
      "metadata": {
        "id": "9B5Zl1UOBMAJ"
      },
      "source": [
        "Importing the Dependencies"
      ]
    },
    {
      "cell_type": "code",
      "execution_count": 1,
      "metadata": {
        "id": "AdtcgSYGFPuJ"
      },
      "outputs": [],
      "source": [
        "import numpy as np\n",
        "import pandas as pd\n",
        "from sklearn.model_selection import train_test_split\n",
        "from sklearn.pipeline import make_pipeline\n",
        "from sklearn.preprocessing import StandardScaler\n",
        "from sklearn.neighbors import KNeighborsClassifier\n",
        "from sklearn.metrics import precision_recall_fscore_support\n",
        "from sklearn.metrics import accuracy_score\n",
        "from sklearn.model_selection import cross_val_score\n",
        "\n",
        "from sklearn.metrics import accuracy_score, classification_report, confusion_matrix\n"
      ]
    },
    {
      "cell_type": "markdown",
      "metadata": {
        "id": "PZm-USrtB_q4"
      },
      "source": [
        "Data Collection & Analysis"
      ]
    },
    {
      "cell_type": "code",
      "execution_count": 2,
      "metadata": {
        "id": "5YC2lGuVBiZA"
      },
      "outputs": [],
      "source": [
        "# loading the data from csv file to a Pandas DataFrame\n",
        "parkinsons_data = pd.read_csv('./merged_dataset.csv')"
      ]
    },
    {
      "cell_type": "code",
      "execution_count": 3,
      "metadata": {
        "colab": {
          "base_uri": "https://localhost:8080/",
          "height": 255
        },
        "id": "Iw8z6w60Djd2",
        "outputId": "6e934a5e-0034-43fa-9d72-76bae11144a6"
      },
      "outputs": [
        {
          "data": {
            "text/html": [
              "<div>\n",
              "<style scoped>\n",
              "    .dataframe tbody tr th:only-of-type {\n",
              "        vertical-align: middle;\n",
              "    }\n",
              "\n",
              "    .dataframe tbody tr th {\n",
              "        vertical-align: top;\n",
              "    }\n",
              "\n",
              "    .dataframe thead th {\n",
              "        text-align: right;\n",
              "    }\n",
              "</style>\n",
              "<table border=\"1\" class=\"dataframe\">\n",
              "  <thead>\n",
              "    <tr style=\"text-align: right;\">\n",
              "      <th></th>\n",
              "      <th>name</th>\n",
              "      <th>MDVP:Fo(Hz)</th>\n",
              "      <th>MDVP:Fhi(Hz)</th>\n",
              "      <th>MDVP:Flo(Hz)</th>\n",
              "      <th>MDVP:Jitter(%)</th>\n",
              "      <th>MDVP:Jitter(Abs)</th>\n",
              "      <th>MDVP:RAP</th>\n",
              "      <th>MDVP:PPQ</th>\n",
              "      <th>Jitter:DDP</th>\n",
              "      <th>MDVP:Shimmer</th>\n",
              "      <th>...</th>\n",
              "      <th>Shimmer:DDA</th>\n",
              "      <th>NHR</th>\n",
              "      <th>HNR</th>\n",
              "      <th>status</th>\n",
              "      <th>RPDE</th>\n",
              "      <th>DFA</th>\n",
              "      <th>spread1</th>\n",
              "      <th>spread2</th>\n",
              "      <th>D2</th>\n",
              "      <th>PPE</th>\n",
              "    </tr>\n",
              "  </thead>\n",
              "  <tbody>\n",
              "    <tr>\n",
              "      <th>0</th>\n",
              "      <td>phon_R01_S35_4</td>\n",
              "      <td>202.632000</td>\n",
              "      <td>565.740000</td>\n",
              "      <td>177.258000</td>\n",
              "      <td>0.016270</td>\n",
              "      <td>0.000080</td>\n",
              "      <td>0.009190</td>\n",
              "      <td>0.009630</td>\n",
              "      <td>0.027560</td>\n",
              "      <td>0.071700</td>\n",
              "      <td>...</td>\n",
              "      <td>0.105460</td>\n",
              "      <td>0.078890</td>\n",
              "      <td>14.989000</td>\n",
              "      <td>1</td>\n",
              "      <td>0.427627</td>\n",
              "      <td>0.775708</td>\n",
              "      <td>-4.892495</td>\n",
              "      <td>0.262281</td>\n",
              "      <td>2.910213</td>\n",
              "      <td>0.270173</td>\n",
              "    </tr>\n",
              "    <tr>\n",
              "      <th>1</th>\n",
              "      <td>phon_R01_S02_2</td>\n",
              "      <td>107.332000</td>\n",
              "      <td>113.840000</td>\n",
              "      <td>104.315000</td>\n",
              "      <td>0.002900</td>\n",
              "      <td>0.000030</td>\n",
              "      <td>0.001440</td>\n",
              "      <td>0.001820</td>\n",
              "      <td>0.004310</td>\n",
              "      <td>0.015670</td>\n",
              "      <td>...</td>\n",
              "      <td>0.024870</td>\n",
              "      <td>0.003440</td>\n",
              "      <td>26.892000</td>\n",
              "      <td>1</td>\n",
              "      <td>0.637420</td>\n",
              "      <td>0.763262</td>\n",
              "      <td>-6.167603</td>\n",
              "      <td>0.183721</td>\n",
              "      <td>2.064693</td>\n",
              "      <td>0.163755</td>\n",
              "    </tr>\n",
              "    <tr>\n",
              "      <th>2</th>\n",
              "      <td>phon_R01_S07_2</td>\n",
              "      <td>199.382154</td>\n",
              "      <td>209.693907</td>\n",
              "      <td>191.973063</td>\n",
              "      <td>0.116101</td>\n",
              "      <td>0.004157</td>\n",
              "      <td>0.159846</td>\n",
              "      <td>0.043134</td>\n",
              "      <td>-0.058774</td>\n",
              "      <td>0.129600</td>\n",
              "      <td>...</td>\n",
              "      <td>0.026568</td>\n",
              "      <td>-0.006818</td>\n",
              "      <td>30.908897</td>\n",
              "      <td>0</td>\n",
              "      <td>0.420614</td>\n",
              "      <td>0.714049</td>\n",
              "      <td>-7.749298</td>\n",
              "      <td>0.106569</td>\n",
              "      <td>2.162500</td>\n",
              "      <td>-0.060096</td>\n",
              "    </tr>\n",
              "    <tr>\n",
              "      <th>3</th>\n",
              "      <td>phon_R01_S43_1</td>\n",
              "      <td>112.414658</td>\n",
              "      <td>133.337683</td>\n",
              "      <td>105.794235</td>\n",
              "      <td>-0.199640</td>\n",
              "      <td>-0.197199</td>\n",
              "      <td>-0.002176</td>\n",
              "      <td>-0.042493</td>\n",
              "      <td>-0.059883</td>\n",
              "      <td>-0.057149</td>\n",
              "      <td>...</td>\n",
              "      <td>0.182758</td>\n",
              "      <td>0.045046</td>\n",
              "      <td>26.583589</td>\n",
              "      <td>0</td>\n",
              "      <td>0.398632</td>\n",
              "      <td>0.662768</td>\n",
              "      <td>-6.244178</td>\n",
              "      <td>0.156079</td>\n",
              "      <td>2.230395</td>\n",
              "      <td>0.111724</td>\n",
              "    </tr>\n",
              "    <tr>\n",
              "      <th>4</th>\n",
              "      <td>phon_R01_S33_4</td>\n",
              "      <td>113.166000</td>\n",
              "      <td>130.270000</td>\n",
              "      <td>100.673000</td>\n",
              "      <td>0.005020</td>\n",
              "      <td>0.000040</td>\n",
              "      <td>0.002570</td>\n",
              "      <td>0.003120</td>\n",
              "      <td>0.007720</td>\n",
              "      <td>0.052790</td>\n",
              "      <td>...</td>\n",
              "      <td>0.086890</td>\n",
              "      <td>0.036900</td>\n",
              "      <td>16.747000</td>\n",
              "      <td>1</td>\n",
              "      <td>0.625362</td>\n",
              "      <td>0.708617</td>\n",
              "      <td>-4.654894</td>\n",
              "      <td>0.304107</td>\n",
              "      <td>2.672362</td>\n",
              "      <td>0.274387</td>\n",
              "    </tr>\n",
              "  </tbody>\n",
              "</table>\n",
              "<p>5 rows × 24 columns</p>\n",
              "</div>"
            ],
            "text/plain": [
              "             name  MDVP:Fo(Hz)  MDVP:Fhi(Hz)  MDVP:Flo(Hz)  MDVP:Jitter(%)  \\\n",
              "0  phon_R01_S35_4   202.632000    565.740000    177.258000        0.016270   \n",
              "1  phon_R01_S02_2   107.332000    113.840000    104.315000        0.002900   \n",
              "2  phon_R01_S07_2   199.382154    209.693907    191.973063        0.116101   \n",
              "3  phon_R01_S43_1   112.414658    133.337683    105.794235       -0.199640   \n",
              "4  phon_R01_S33_4   113.166000    130.270000    100.673000        0.005020   \n",
              "\n",
              "   MDVP:Jitter(Abs)  MDVP:RAP  MDVP:PPQ  Jitter:DDP  MDVP:Shimmer  ...  \\\n",
              "0          0.000080  0.009190  0.009630    0.027560      0.071700  ...   \n",
              "1          0.000030  0.001440  0.001820    0.004310      0.015670  ...   \n",
              "2          0.004157  0.159846  0.043134   -0.058774      0.129600  ...   \n",
              "3         -0.197199 -0.002176 -0.042493   -0.059883     -0.057149  ...   \n",
              "4          0.000040  0.002570  0.003120    0.007720      0.052790  ...   \n",
              "\n",
              "   Shimmer:DDA       NHR        HNR  status      RPDE       DFA   spread1  \\\n",
              "0     0.105460  0.078890  14.989000       1  0.427627  0.775708 -4.892495   \n",
              "1     0.024870  0.003440  26.892000       1  0.637420  0.763262 -6.167603   \n",
              "2     0.026568 -0.006818  30.908897       0  0.420614  0.714049 -7.749298   \n",
              "3     0.182758  0.045046  26.583589       0  0.398632  0.662768 -6.244178   \n",
              "4     0.086890  0.036900  16.747000       1  0.625362  0.708617 -4.654894   \n",
              "\n",
              "    spread2        D2       PPE  \n",
              "0  0.262281  2.910213  0.270173  \n",
              "1  0.183721  2.064693  0.163755  \n",
              "2  0.106569  2.162500 -0.060096  \n",
              "3  0.156079  2.230395  0.111724  \n",
              "4  0.304107  2.672362  0.274387  \n",
              "\n",
              "[5 rows x 24 columns]"
            ]
          },
          "execution_count": 3,
          "metadata": {},
          "output_type": "execute_result"
        }
      ],
      "source": [
        "# printing the first 5 rows of the dataframe\n",
        "parkinsons_data.head()"
      ]
    },
    {
      "cell_type": "code",
      "execution_count": 4,
      "metadata": {
        "colab": {
          "base_uri": "https://localhost:8080/"
        },
        "id": "cK7L_o2TDuZb",
        "outputId": "ee522934-426f-407e-e44f-fb71ca3a7410"
      },
      "outputs": [
        {
          "data": {
            "text/plain": [
              "(295, 24)"
            ]
          },
          "execution_count": 4,
          "metadata": {},
          "output_type": "execute_result"
        }
      ],
      "source": [
        "# number of rows and columns in the dataframe\n",
        "parkinsons_data.shape"
      ]
    },
    {
      "cell_type": "code",
      "execution_count": 5,
      "metadata": {
        "colab": {
          "base_uri": "https://localhost:8080/"
        },
        "id": "NLmzHIgnEGi4",
        "outputId": "2434aadc-72e2-45c1-fda5-011a55d2db95"
      },
      "outputs": [
        {
          "name": "stdout",
          "output_type": "stream",
          "text": [
            "<class 'pandas.core.frame.DataFrame'>\n",
            "RangeIndex: 295 entries, 0 to 294\n",
            "Data columns (total 24 columns):\n",
            " #   Column            Non-Null Count  Dtype  \n",
            "---  ------            --------------  -----  \n",
            " 0   name              295 non-null    object \n",
            " 1   MDVP:Fo(Hz)       295 non-null    float64\n",
            " 2   MDVP:Fhi(Hz)      295 non-null    float64\n",
            " 3   MDVP:Flo(Hz)      295 non-null    float64\n",
            " 4   MDVP:Jitter(%)    295 non-null    float64\n",
            " 5   MDVP:Jitter(Abs)  295 non-null    float64\n",
            " 6   MDVP:RAP          295 non-null    float64\n",
            " 7   MDVP:PPQ          295 non-null    float64\n",
            " 8   Jitter:DDP        295 non-null    float64\n",
            " 9   MDVP:Shimmer      295 non-null    float64\n",
            " 10  MDVP:Shimmer(dB)  295 non-null    float64\n",
            " 11  Shimmer:APQ3      295 non-null    float64\n",
            " 12  Shimmer:APQ5      295 non-null    float64\n",
            " 13  MDVP:APQ          295 non-null    float64\n",
            " 14  Shimmer:DDA       295 non-null    float64\n",
            " 15  NHR               295 non-null    float64\n",
            " 16  HNR               295 non-null    float64\n",
            " 17  status            295 non-null    int64  \n",
            " 18  RPDE              295 non-null    float64\n",
            " 19  DFA               295 non-null    float64\n",
            " 20  spread1           295 non-null    float64\n",
            " 21  spread2           295 non-null    float64\n",
            " 22  D2                295 non-null    float64\n",
            " 23  PPE               295 non-null    float64\n",
            "dtypes: float64(22), int64(1), object(1)\n",
            "memory usage: 55.4+ KB\n"
          ]
        }
      ],
      "source": [
        "# getting more information about the dataset\n",
        "parkinsons_data.info()"
      ]
    },
    {
      "cell_type": "code",
      "execution_count": 6,
      "metadata": {
        "colab": {
          "base_uri": "https://localhost:8080/"
        },
        "id": "70rgu_k4ET9F",
        "outputId": "1047c3bf-34c4-40ea-9a79-67417c3bb878"
      },
      "outputs": [
        {
          "data": {
            "text/plain": [
              "name                0\n",
              "MDVP:Fo(Hz)         0\n",
              "MDVP:Fhi(Hz)        0\n",
              "MDVP:Flo(Hz)        0\n",
              "MDVP:Jitter(%)      0\n",
              "MDVP:Jitter(Abs)    0\n",
              "MDVP:RAP            0\n",
              "MDVP:PPQ            0\n",
              "Jitter:DDP          0\n",
              "MDVP:Shimmer        0\n",
              "MDVP:Shimmer(dB)    0\n",
              "Shimmer:APQ3        0\n",
              "Shimmer:APQ5        0\n",
              "MDVP:APQ            0\n",
              "Shimmer:DDA         0\n",
              "NHR                 0\n",
              "HNR                 0\n",
              "status              0\n",
              "RPDE                0\n",
              "DFA                 0\n",
              "spread1             0\n",
              "spread2             0\n",
              "D2                  0\n",
              "PPE                 0\n",
              "dtype: int64"
            ]
          },
          "execution_count": 6,
          "metadata": {},
          "output_type": "execute_result"
        }
      ],
      "source": [
        "# checking for missing values in each column\n",
        "parkinsons_data.isnull().sum()"
      ]
    },
    {
      "cell_type": "code",
      "execution_count": 7,
      "metadata": {
        "colab": {
          "base_uri": "https://localhost:8080/",
          "height": 349
        },
        "id": "1AxFu0-nEhSA",
        "outputId": "74fc270d-d48e-45e5-9ef4-352e726ed30b"
      },
      "outputs": [
        {
          "data": {
            "text/html": [
              "<div>\n",
              "<style scoped>\n",
              "    .dataframe tbody tr th:only-of-type {\n",
              "        vertical-align: middle;\n",
              "    }\n",
              "\n",
              "    .dataframe tbody tr th {\n",
              "        vertical-align: top;\n",
              "    }\n",
              "\n",
              "    .dataframe thead th {\n",
              "        text-align: right;\n",
              "    }\n",
              "</style>\n",
              "<table border=\"1\" class=\"dataframe\">\n",
              "  <thead>\n",
              "    <tr style=\"text-align: right;\">\n",
              "      <th></th>\n",
              "      <th>MDVP:Fo(Hz)</th>\n",
              "      <th>MDVP:Fhi(Hz)</th>\n",
              "      <th>MDVP:Flo(Hz)</th>\n",
              "      <th>MDVP:Jitter(%)</th>\n",
              "      <th>MDVP:Jitter(Abs)</th>\n",
              "      <th>MDVP:RAP</th>\n",
              "      <th>MDVP:PPQ</th>\n",
              "      <th>Jitter:DDP</th>\n",
              "      <th>MDVP:Shimmer</th>\n",
              "      <th>MDVP:Shimmer(dB)</th>\n",
              "      <th>...</th>\n",
              "      <th>Shimmer:DDA</th>\n",
              "      <th>NHR</th>\n",
              "      <th>HNR</th>\n",
              "      <th>status</th>\n",
              "      <th>RPDE</th>\n",
              "      <th>DFA</th>\n",
              "      <th>spread1</th>\n",
              "      <th>spread2</th>\n",
              "      <th>D2</th>\n",
              "      <th>PPE</th>\n",
              "    </tr>\n",
              "  </thead>\n",
              "  <tbody>\n",
              "    <tr>\n",
              "      <th>count</th>\n",
              "      <td>295.000000</td>\n",
              "      <td>295.000000</td>\n",
              "      <td>295.000000</td>\n",
              "      <td>295.000000</td>\n",
              "      <td>295.000000</td>\n",
              "      <td>295.000000</td>\n",
              "      <td>295.000000</td>\n",
              "      <td>295.000000</td>\n",
              "      <td>295.000000</td>\n",
              "      <td>295.000000</td>\n",
              "      <td>...</td>\n",
              "      <td>295.000000</td>\n",
              "      <td>295.000000</td>\n",
              "      <td>295.000000</td>\n",
              "      <td>295.000000</td>\n",
              "      <td>295.000000</td>\n",
              "      <td>295.000000</td>\n",
              "      <td>295.000000</td>\n",
              "      <td>295.000000</td>\n",
              "      <td>295.000000</td>\n",
              "      <td>295.000000</td>\n",
              "    </tr>\n",
              "    <tr>\n",
              "      <th>mean</th>\n",
              "      <td>164.943555</td>\n",
              "      <td>208.704473</td>\n",
              "      <td>126.830593</td>\n",
              "      <td>0.009871</td>\n",
              "      <td>-0.011848</td>\n",
              "      <td>0.004418</td>\n",
              "      <td>0.000471</td>\n",
              "      <td>0.005965</td>\n",
              "      <td>0.014031</td>\n",
              "      <td>0.242381</td>\n",
              "      <td>...</td>\n",
              "      <td>0.043261</td>\n",
              "      <td>0.011212</td>\n",
              "      <td>22.795134</td>\n",
              "      <td>0.498305</td>\n",
              "      <td>0.493736</td>\n",
              "      <td>0.715867</td>\n",
              "      <td>-6.082598</td>\n",
              "      <td>0.206310</td>\n",
              "      <td>2.299155</td>\n",
              "      <td>0.175025</td>\n",
              "    </tr>\n",
              "    <tr>\n",
              "      <th>std</th>\n",
              "      <td>46.691989</td>\n",
              "      <td>92.552445</td>\n",
              "      <td>51.557492</td>\n",
              "      <td>0.054066</td>\n",
              "      <td>0.051890</td>\n",
              "      <td>0.046226</td>\n",
              "      <td>0.048999</td>\n",
              "      <td>0.054177</td>\n",
              "      <td>0.065781</td>\n",
              "      <td>0.182139</td>\n",
              "      <td>...</td>\n",
              "      <td>0.073101</td>\n",
              "      <td>0.073235</td>\n",
              "      <td>4.418847</td>\n",
              "      <td>0.500847</td>\n",
              "      <td>0.117592</td>\n",
              "      <td>0.078619</td>\n",
              "      <td>1.103468</td>\n",
              "      <td>0.105930</td>\n",
              "      <td>0.372453</td>\n",
              "      <td>0.115580</td>\n",
              "    </tr>\n",
              "    <tr>\n",
              "      <th>min</th>\n",
              "      <td>88.333000</td>\n",
              "      <td>102.145000</td>\n",
              "      <td>65.476000</td>\n",
              "      <td>-0.199640</td>\n",
              "      <td>-0.251498</td>\n",
              "      <td>-0.172702</td>\n",
              "      <td>-0.211714</td>\n",
              "      <td>-0.160408</td>\n",
              "      <td>-0.246441</td>\n",
              "      <td>-0.140778</td>\n",
              "      <td>...</td>\n",
              "      <td>-0.277478</td>\n",
              "      <td>-0.198765</td>\n",
              "      <td>8.441000</td>\n",
              "      <td>0.000000</td>\n",
              "      <td>0.036556</td>\n",
              "      <td>0.327848</td>\n",
              "      <td>-8.018410</td>\n",
              "      <td>-0.113119</td>\n",
              "      <td>1.423287</td>\n",
              "      <td>-0.235248</td>\n",
              "    </tr>\n",
              "    <tr>\n",
              "      <th>25%</th>\n",
              "      <td>120.079000</td>\n",
              "      <td>138.475086</td>\n",
              "      <td>88.027500</td>\n",
              "      <td>0.003005</td>\n",
              "      <td>0.000010</td>\n",
              "      <td>0.001270</td>\n",
              "      <td>0.001475</td>\n",
              "      <td>0.003495</td>\n",
              "      <td>0.010810</td>\n",
              "      <td>0.132500</td>\n",
              "      <td>...</td>\n",
              "      <td>0.021805</td>\n",
              "      <td>0.004580</td>\n",
              "      <td>19.538500</td>\n",
              "      <td>0.000000</td>\n",
              "      <td>0.420499</td>\n",
              "      <td>0.665329</td>\n",
              "      <td>-6.996612</td>\n",
              "      <td>0.148321</td>\n",
              "      <td>2.019672</td>\n",
              "      <td>0.110119</td>\n",
              "    </tr>\n",
              "    <tr>\n",
              "      <th>50%</th>\n",
              "      <td>156.239000</td>\n",
              "      <td>202.450000</td>\n",
              "      <td>107.802000</td>\n",
              "      <td>0.005190</td>\n",
              "      <td>0.000030</td>\n",
              "      <td>0.002440</td>\n",
              "      <td>0.002610</td>\n",
              "      <td>0.006960</td>\n",
              "      <td>0.019970</td>\n",
              "      <td>0.192409</td>\n",
              "      <td>...</td>\n",
              "      <td>0.038360</td>\n",
              "      <td>0.012110</td>\n",
              "      <td>23.162000</td>\n",
              "      <td>0.000000</td>\n",
              "      <td>0.489345</td>\n",
              "      <td>0.719576</td>\n",
              "      <td>-6.244178</td>\n",
              "      <td>0.210185</td>\n",
              "      <td>2.277927</td>\n",
              "      <td>0.177807</td>\n",
              "    </tr>\n",
              "    <tr>\n",
              "      <th>75%</th>\n",
              "      <td>201.944675</td>\n",
              "      <td>240.763665</td>\n",
              "      <td>163.866000</td>\n",
              "      <td>0.013150</td>\n",
              "      <td>0.000070</td>\n",
              "      <td>0.004795</td>\n",
              "      <td>0.004815</td>\n",
              "      <td>0.012840</td>\n",
              "      <td>0.039405</td>\n",
              "      <td>0.287756</td>\n",
              "      <td>...</td>\n",
              "      <td>0.070542</td>\n",
              "      <td>0.038495</td>\n",
              "      <td>25.529207</td>\n",
              "      <td>1.000000</td>\n",
              "      <td>0.576304</td>\n",
              "      <td>0.757752</td>\n",
              "      <td>-5.426944</td>\n",
              "      <td>0.271961</td>\n",
              "      <td>2.538126</td>\n",
              "      <td>0.244544</td>\n",
              "    </tr>\n",
              "    <tr>\n",
              "      <th>max</th>\n",
              "      <td>260.117440</td>\n",
              "      <td>592.205062</td>\n",
              "      <td>239.175904</td>\n",
              "      <td>0.262378</td>\n",
              "      <td>0.151307</td>\n",
              "      <td>0.159846</td>\n",
              "      <td>0.149783</td>\n",
              "      <td>0.221077</td>\n",
              "      <td>0.209636</td>\n",
              "      <td>1.302000</td>\n",
              "      <td>...</td>\n",
              "      <td>0.209233</td>\n",
              "      <td>0.314820</td>\n",
              "      <td>33.047000</td>\n",
              "      <td>1.000000</td>\n",
              "      <td>0.854788</td>\n",
              "      <td>1.055572</td>\n",
              "      <td>-2.434031</td>\n",
              "      <td>0.529259</td>\n",
              "      <td>3.671155</td>\n",
              "      <td>0.527367</td>\n",
              "    </tr>\n",
              "  </tbody>\n",
              "</table>\n",
              "<p>8 rows × 23 columns</p>\n",
              "</div>"
            ],
            "text/plain": [
              "       MDVP:Fo(Hz)  MDVP:Fhi(Hz)  MDVP:Flo(Hz)  MDVP:Jitter(%)  \\\n",
              "count   295.000000    295.000000    295.000000      295.000000   \n",
              "mean    164.943555    208.704473    126.830593        0.009871   \n",
              "std      46.691989     92.552445     51.557492        0.054066   \n",
              "min      88.333000    102.145000     65.476000       -0.199640   \n",
              "25%     120.079000    138.475086     88.027500        0.003005   \n",
              "50%     156.239000    202.450000    107.802000        0.005190   \n",
              "75%     201.944675    240.763665    163.866000        0.013150   \n",
              "max     260.117440    592.205062    239.175904        0.262378   \n",
              "\n",
              "       MDVP:Jitter(Abs)    MDVP:RAP    MDVP:PPQ  Jitter:DDP  MDVP:Shimmer  \\\n",
              "count        295.000000  295.000000  295.000000  295.000000    295.000000   \n",
              "mean          -0.011848    0.004418    0.000471    0.005965      0.014031   \n",
              "std            0.051890    0.046226    0.048999    0.054177      0.065781   \n",
              "min           -0.251498   -0.172702   -0.211714   -0.160408     -0.246441   \n",
              "25%            0.000010    0.001270    0.001475    0.003495      0.010810   \n",
              "50%            0.000030    0.002440    0.002610    0.006960      0.019970   \n",
              "75%            0.000070    0.004795    0.004815    0.012840      0.039405   \n",
              "max            0.151307    0.159846    0.149783    0.221077      0.209636   \n",
              "\n",
              "       MDVP:Shimmer(dB)  ...  Shimmer:DDA         NHR         HNR      status  \\\n",
              "count        295.000000  ...   295.000000  295.000000  295.000000  295.000000   \n",
              "mean           0.242381  ...     0.043261    0.011212   22.795134    0.498305   \n",
              "std            0.182139  ...     0.073101    0.073235    4.418847    0.500847   \n",
              "min           -0.140778  ...    -0.277478   -0.198765    8.441000    0.000000   \n",
              "25%            0.132500  ...     0.021805    0.004580   19.538500    0.000000   \n",
              "50%            0.192409  ...     0.038360    0.012110   23.162000    0.000000   \n",
              "75%            0.287756  ...     0.070542    0.038495   25.529207    1.000000   \n",
              "max            1.302000  ...     0.209233    0.314820   33.047000    1.000000   \n",
              "\n",
              "             RPDE         DFA     spread1     spread2          D2         PPE  \n",
              "count  295.000000  295.000000  295.000000  295.000000  295.000000  295.000000  \n",
              "mean     0.493736    0.715867   -6.082598    0.206310    2.299155    0.175025  \n",
              "std      0.117592    0.078619    1.103468    0.105930    0.372453    0.115580  \n",
              "min      0.036556    0.327848   -8.018410   -0.113119    1.423287   -0.235248  \n",
              "25%      0.420499    0.665329   -6.996612    0.148321    2.019672    0.110119  \n",
              "50%      0.489345    0.719576   -6.244178    0.210185    2.277927    0.177807  \n",
              "75%      0.576304    0.757752   -5.426944    0.271961    2.538126    0.244544  \n",
              "max      0.854788    1.055572   -2.434031    0.529259    3.671155    0.527367  \n",
              "\n",
              "[8 rows x 23 columns]"
            ]
          },
          "execution_count": 7,
          "metadata": {},
          "output_type": "execute_result"
        }
      ],
      "source": [
        "# getting some statistical measures about the data\n",
        "parkinsons_data.describe()"
      ]
    },
    {
      "cell_type": "code",
      "execution_count": 8,
      "metadata": {
        "colab": {
          "base_uri": "https://localhost:8080/"
        },
        "id": "3O8AclzwExyH",
        "outputId": "e9dffd69-ced2-4f50-bb52-d7e4badded5a"
      },
      "outputs": [
        {
          "data": {
            "text/plain": [
              "status\n",
              "0    148\n",
              "1    147\n",
              "Name: count, dtype: int64"
            ]
          },
          "execution_count": 8,
          "metadata": {},
          "output_type": "execute_result"
        }
      ],
      "source": [
        "# distribution of target Variable\n",
        "parkinsons_data['status'].value_counts()"
      ]
    },
    {
      "cell_type": "markdown",
      "metadata": {
        "id": "L1srlxtEFYfN"
      },
      "source": [
        "1  --> Parkinson's Positive\n",
        "\n",
        "0 --> Healthy\n"
      ]
    },
    {
      "cell_type": "code",
      "execution_count": 9,
      "metadata": {
        "colab": {
          "base_uri": "https://localhost:8080/",
          "height": 227
        },
        "id": "zUrPan7CFTMq",
        "outputId": "7f40b5c1-9054-4745-984f-571c34e137f6"
      },
      "outputs": [],
      "source": [
        "# grouping the data bas3ed on the target variable\n",
        "#parkinsons_data.groupby('status').mean()\n",
        "parkinsons_data['status'] = pd.to_numeric(parkinsons_data['status'], errors='coerce')\n",
        "\n",
        "# Now you can apply the mean function\n",
        "mean_value = parkinsons_data['status'].mean()"
      ]
    },
    {
      "cell_type": "markdown",
      "metadata": {
        "id": "8RY6c0waGSs7"
      },
      "source": [
        "Data Pre-Processing"
      ]
    },
    {
      "cell_type": "markdown",
      "metadata": {
        "id": "We7sRYu7Gc4q"
      },
      "source": [
        "Separating the features & Target"
      ]
    },
    {
      "cell_type": "code",
      "execution_count": 10,
      "metadata": {
        "id": "UAcz8jFnFuzH"
      },
      "outputs": [],
      "source": [
        "X = parkinsons_data.drop(columns=['name','status'], axis=1)\n",
        "Y = parkinsons_data['status']"
      ]
    },
    {
      "cell_type": "code",
      "execution_count": 11,
      "metadata": {
        "colab": {
          "base_uri": "https://localhost:8080/"
        },
        "id": "guRof_8WG1Yn",
        "outputId": "88343a91-41d8-4305-a32f-aceaa7622595"
      },
      "outputs": [
        {
          "name": "stdout",
          "output_type": "stream",
          "text": [
            "     MDVP:Fo(Hz)  MDVP:Fhi(Hz)  MDVP:Flo(Hz)  MDVP:Jitter(%)  \\\n",
            "0     202.632000    565.740000    177.258000        0.016270   \n",
            "1     107.332000    113.840000    104.315000        0.002900   \n",
            "2     199.382154    209.693907    191.973063        0.116101   \n",
            "3     112.414658    133.337683    105.794235       -0.199640   \n",
            "4     113.166000    130.270000    100.673000        0.005020   \n",
            "..           ...           ...           ...             ...   \n",
            "290   116.879000    131.897000    108.153000        0.007880   \n",
            "291   116.225605    177.321645     96.678614       -0.163058   \n",
            "292   116.225605    177.321645     96.678614       -0.163058   \n",
            "293   169.774000    191.759000    151.451000        0.015680   \n",
            "294   237.226000    247.326000    225.227000        0.002980   \n",
            "\n",
            "     MDVP:Jitter(Abs)  MDVP:RAP  MDVP:PPQ  Jitter:DDP  MDVP:Shimmer  \\\n",
            "0            0.000080  0.009190  0.009630    0.027560      0.071700   \n",
            "1            0.000030  0.001440  0.001820    0.004310      0.015670   \n",
            "2            0.004157  0.159846  0.043134   -0.058774      0.129600   \n",
            "3           -0.197199 -0.002176 -0.042493   -0.059883     -0.057149   \n",
            "4            0.000040  0.002570  0.003120    0.007720      0.052790   \n",
            "..                ...       ...       ...         ...           ...   \n",
            "290          0.000070  0.003340  0.004930    0.010030      0.026450   \n",
            "291         -0.074726  0.012942  0.073436   -0.031337     -0.246441   \n",
            "292         -0.074726  0.012942  0.073436   -0.031337     -0.246441   \n",
            "293          0.000090  0.008630  0.009460    0.025890      0.081430   \n",
            "294          0.000010  0.001690  0.001820    0.005070      0.017520   \n",
            "\n",
            "     MDVP:Shimmer(dB)  ...  MDVP:APQ  Shimmer:DDA       NHR        HNR  \\\n",
            "0            0.833000  ...  0.064600     0.105460  0.078890  14.989000   \n",
            "1            0.134000  ...  0.012560     0.024870  0.003440  26.892000   \n",
            "2           -0.140778  ... -0.284877     0.026568 -0.006818  30.908897   \n",
            "3            0.079856  ...  0.050047     0.182758  0.045046  26.583589   \n",
            "4            0.476000  ...  0.041340     0.086890  0.036900  16.747000   \n",
            "..                ...  ...       ...          ...       ...        ...   \n",
            "290          0.265000  ...  0.021370     0.041830  0.007860  22.603000   \n",
            "291          0.234777  ... -0.059609    -0.060839 -0.174129  24.293404   \n",
            "292          0.234777  ... -0.059609    -0.060839 -0.174129  24.293404   \n",
            "293          0.821000  ...  0.088080     0.114110  0.075300  12.359000   \n",
            "294          0.164000  ...  0.011330     0.031040  0.007400  22.736000   \n",
            "\n",
            "         RPDE       DFA   spread1   spread2        D2       PPE  \n",
            "0    0.427627  0.775708 -4.892495  0.262281  2.910213  0.270173  \n",
            "1    0.637420  0.763262 -6.167603  0.183721  2.064693  0.163755  \n",
            "2    0.420614  0.714049 -7.749298  0.106569  2.162500 -0.060096  \n",
            "3    0.398632  0.662768 -6.244178  0.156079  2.230395  0.111724  \n",
            "4    0.625362  0.708617 -4.654894  0.304107  2.672362  0.274387  \n",
            "..        ...       ...       ...       ...       ...       ...  \n",
            "290  0.540049  0.813432 -4.476755  0.262633  1.827012  0.326197  \n",
            "291  0.854788  0.620850 -5.887150  0.095756  2.101064  0.313242  \n",
            "292  0.854788  0.620850 -5.887150  0.095756  2.101064  0.313242  \n",
            "293  0.561610  0.793509 -3.297668  0.414758  3.413649  0.457533  \n",
            "294  0.305062  0.654172 -7.310550  0.098648  2.416838  0.095032  \n",
            "\n",
            "[295 rows x 22 columns]\n"
          ]
        }
      ],
      "source": [
        "print(X)"
      ]
    },
    {
      "cell_type": "code",
      "execution_count": 12,
      "metadata": {
        "colab": {
          "base_uri": "https://localhost:8080/"
        },
        "id": "xSNrvkJoG3cY",
        "outputId": "c648cf4c-d218-44bf-d143-623b78eab562"
      },
      "outputs": [
        {
          "name": "stdout",
          "output_type": "stream",
          "text": [
            "0      1\n",
            "1      1\n",
            "2      0\n",
            "3      0\n",
            "4      1\n",
            "      ..\n",
            "290    1\n",
            "291    0\n",
            "292    0\n",
            "293    1\n",
            "294    0\n",
            "Name: status, Length: 295, dtype: int64\n"
          ]
        }
      ],
      "source": [
        "print(Y)"
      ]
    },
    {
      "cell_type": "markdown",
      "metadata": {
        "id": "WDeqEaaHHBAS"
      },
      "source": [
        "Splitting the data to training data & Test data"
      ]
    },
    {
      "cell_type": "code",
      "execution_count": 13,
      "metadata": {
        "id": "4c6nrCiVG6NB"
      },
      "outputs": [],
      "source": [
        "X_train, X_test, Y_train, Y_test = train_test_split(X, Y, test_size=0.2, random_state=2)"
      ]
    },
    {
      "cell_type": "code",
      "execution_count": 14,
      "metadata": {
        "colab": {
          "base_uri": "https://localhost:8080/"
        },
        "id": "6OqUka96H35c",
        "outputId": "f659443b-b09e-470d-d8c0-abb9f39f741d"
      },
      "outputs": [
        {
          "name": "stdout",
          "output_type": "stream",
          "text": [
            "(295, 22) (236, 22) (59, 22)\n"
          ]
        }
      ],
      "source": [
        "print(X.shape, X_train.shape, X_test.shape)"
      ]
    },
    {
      "cell_type": "markdown",
      "metadata": {
        "id": "ACsXtFTGIFU-"
      },
      "source": [
        "Data Standardization"
      ]
    },
    {
      "cell_type": "code",
      "execution_count": 15,
      "metadata": {
        "id": "DbpeUHeUH-4A"
      },
      "outputs": [],
      "source": [
        "scaler = StandardScaler()\n",
        "X_train_scaled = scaler.fit_transform(X_train)\n",
        "X_test_scaled = scaler.transform(X_test)"
      ]
    },
    {
      "cell_type": "code",
      "execution_count": 16,
      "metadata": {
        "colab": {
          "base_uri": "https://localhost:8080/",
          "height": 74
        },
        "id": "MVkVqUbhIdBs",
        "outputId": "322f8d96-e0b7-433a-f2da-37acd399a23e"
      },
      "outputs": [
        {
          "data": {
            "text/html": [
              "<style>#sk-container-id-1 {color: black;}#sk-container-id-1 pre{padding: 0;}#sk-container-id-1 div.sk-toggleable {background-color: white;}#sk-container-id-1 label.sk-toggleable__label {cursor: pointer;display: block;width: 100%;margin-bottom: 0;padding: 0.3em;box-sizing: border-box;text-align: center;}#sk-container-id-1 label.sk-toggleable__label-arrow:before {content: \"▸\";float: left;margin-right: 0.25em;color: #696969;}#sk-container-id-1 label.sk-toggleable__label-arrow:hover:before {color: black;}#sk-container-id-1 div.sk-estimator:hover label.sk-toggleable__label-arrow:before {color: black;}#sk-container-id-1 div.sk-toggleable__content {max-height: 0;max-width: 0;overflow: hidden;text-align: left;background-color: #f0f8ff;}#sk-container-id-1 div.sk-toggleable__content pre {margin: 0.2em;color: black;border-radius: 0.25em;background-color: #f0f8ff;}#sk-container-id-1 input.sk-toggleable__control:checked~div.sk-toggleable__content {max-height: 200px;max-width: 100%;overflow: auto;}#sk-container-id-1 input.sk-toggleable__control:checked~label.sk-toggleable__label-arrow:before {content: \"▾\";}#sk-container-id-1 div.sk-estimator input.sk-toggleable__control:checked~label.sk-toggleable__label {background-color: #d4ebff;}#sk-container-id-1 div.sk-label input.sk-toggleable__control:checked~label.sk-toggleable__label {background-color: #d4ebff;}#sk-container-id-1 input.sk-hidden--visually {border: 0;clip: rect(1px 1px 1px 1px);clip: rect(1px, 1px, 1px, 1px);height: 1px;margin: -1px;overflow: hidden;padding: 0;position: absolute;width: 1px;}#sk-container-id-1 div.sk-estimator {font-family: monospace;background-color: #f0f8ff;border: 1px dotted black;border-radius: 0.25em;box-sizing: border-box;margin-bottom: 0.5em;}#sk-container-id-1 div.sk-estimator:hover {background-color: #d4ebff;}#sk-container-id-1 div.sk-parallel-item::after {content: \"\";width: 100%;border-bottom: 1px solid gray;flex-grow: 1;}#sk-container-id-1 div.sk-label:hover label.sk-toggleable__label {background-color: #d4ebff;}#sk-container-id-1 div.sk-serial::before {content: \"\";position: absolute;border-left: 1px solid gray;box-sizing: border-box;top: 0;bottom: 0;left: 50%;z-index: 0;}#sk-container-id-1 div.sk-serial {display: flex;flex-direction: column;align-items: center;background-color: white;padding-right: 0.2em;padding-left: 0.2em;position: relative;}#sk-container-id-1 div.sk-item {position: relative;z-index: 1;}#sk-container-id-1 div.sk-parallel {display: flex;align-items: stretch;justify-content: center;background-color: white;position: relative;}#sk-container-id-1 div.sk-item::before, #sk-container-id-1 div.sk-parallel-item::before {content: \"\";position: absolute;border-left: 1px solid gray;box-sizing: border-box;top: 0;bottom: 0;left: 50%;z-index: -1;}#sk-container-id-1 div.sk-parallel-item {display: flex;flex-direction: column;z-index: 1;position: relative;background-color: white;}#sk-container-id-1 div.sk-parallel-item:first-child::after {align-self: flex-end;width: 50%;}#sk-container-id-1 div.sk-parallel-item:last-child::after {align-self: flex-start;width: 50%;}#sk-container-id-1 div.sk-parallel-item:only-child::after {width: 0;}#sk-container-id-1 div.sk-dashed-wrapped {border: 1px dashed gray;margin: 0 0.4em 0.5em 0.4em;box-sizing: border-box;padding-bottom: 0.4em;background-color: white;}#sk-container-id-1 div.sk-label label {font-family: monospace;font-weight: bold;display: inline-block;line-height: 1.2em;}#sk-container-id-1 div.sk-label-container {text-align: center;}#sk-container-id-1 div.sk-container {/* jupyter's `normalize.less` sets `[hidden] { display: none; }` but bootstrap.min.css set `[hidden] { display: none !important; }` so we also need the `!important` here to be able to override the default hidden behavior on the sphinx rendered scikit-learn.org. See: https://github.com/scikit-learn/scikit-learn/issues/21755 */display: inline-block !important;position: relative;}#sk-container-id-1 div.sk-text-repr-fallback {display: none;}</style><div id=\"sk-container-id-1\" class=\"sk-top-container\"><div class=\"sk-text-repr-fallback\"><pre>StandardScaler()</pre><b>In a Jupyter environment, please rerun this cell to show the HTML representation or trust the notebook. <br />On GitHub, the HTML representation is unable to render, please try loading this page with nbviewer.org.</b></div><div class=\"sk-container\" hidden><div class=\"sk-item\"><div class=\"sk-estimator sk-toggleable\"><input class=\"sk-toggleable__control sk-hidden--visually\" id=\"sk-estimator-id-1\" type=\"checkbox\" checked><label for=\"sk-estimator-id-1\" class=\"sk-toggleable__label sk-toggleable__label-arrow\">StandardScaler</label><div class=\"sk-toggleable__content\"><pre>StandardScaler()</pre></div></div></div></div></div>"
            ],
            "text/plain": [
              "StandardScaler()"
            ]
          },
          "execution_count": 16,
          "metadata": {},
          "output_type": "execute_result"
        }
      ],
      "source": [
        "scaler.fit(X_train)"
      ]
    },
    {
      "cell_type": "code",
      "execution_count": 17,
      "metadata": {
        "id": "1FeONzpiInv5"
      },
      "outputs": [],
      "source": [
        "X_train = scaler.transform(X_train)\n",
        "\n",
        "X_test = scaler.transform(X_test)"
      ]
    },
    {
      "cell_type": "code",
      "execution_count": 18,
      "metadata": {
        "colab": {
          "base_uri": "https://localhost:8080/"
        },
        "id": "OS2_4yaVJAiH",
        "outputId": "e2b78585-8647-4488-dd69-349df7cd1e5f"
      },
      "outputs": [
        {
          "name": "stdout",
          "output_type": "stream",
          "text": [
            "[[ 1.52953087  0.31278661  1.91885556 ...  0.8332917  -1.23981747\n",
            "  -1.91991616]\n",
            " [-1.02204148 -0.89555513 -0.4105617  ... -0.15180935 -0.73120317\n",
            "   0.34490004]\n",
            " [-1.09977117 -0.97262785 -0.59628827 ... -0.34314935 -1.16059903\n",
            "  -0.28145036]\n",
            " ...\n",
            " [-1.12136295 -0.80016732 -0.42844227 ...  0.10617867 -0.27563545\n",
            "  -0.13002669]\n",
            " [ 0.67079201 -0.05755024  1.21485676 ...  1.4971152  -1.20340385\n",
            "  -0.9845254 ]\n",
            " [ 1.64429624  0.42632128  1.8958368  ... -0.48092739  0.81394472\n",
            "  -0.46722685]]\n"
          ]
        }
      ],
      "source": [
        "print(X_train)"
      ]
    },
    {
      "cell_type": "markdown",
      "metadata": {
        "id": "QIOAtx35JUMg"
      },
      "source": [
        "Model Training"
      ]
    },
    {
      "cell_type": "markdown",
      "metadata": {
        "id": "fWlsaBNuJV5g"
      },
      "source": [
        "Support Vector Machine Model"
      ]
    },
    {
      "cell_type": "code",
      "execution_count": 19,
      "metadata": {
        "id": "F01DNpqWKmaW"
      },
      "outputs": [],
      "source": [
        "knn_pipe=make_pipeline(StandardScaler(),KNeighborsClassifier(n_neighbors=9))\n",
        "knn_pipe.fit(X_train, Y_train)\n",
        "k = 3  # You can choose the value of k based on experimentation\n",
        "knn_classifier = KNeighborsClassifier(n_neighbors=k)\n",
        "knn_classifier.fit(X_train_scaled, Y_train)\n",
        "y_pred = knn_classifier.predict(X_test_scaled)"
      ]
    },
    {
      "cell_type": "markdown",
      "metadata": {
        "id": "1z_-nZfuLJrH"
      },
      "source": [
        "Model Evaluation"
      ]
    },
    {
      "cell_type": "markdown",
      "metadata": {
        "id": "Rj3XAnF8LMF4"
      },
      "source": [
        "Accuracy Score"
      ]
    },
    {
      "cell_type": "code",
      "execution_count": 20,
      "metadata": {
        "colab": {
          "base_uri": "https://localhost:8080/"
        },
        "id": "XKyXt-hQNhpO",
        "outputId": "78c0db11-b1d9-40a3-811c-c1c03e11b40d"
      },
      "outputs": [
        {
          "name": "stdout",
          "output_type": "stream",
          "text": [
            "Accuracy score of test data :  0.847457627118644\n",
            "Accuracy: 0.847457627118644\n",
            "Confusion Matrix:\n",
            " [[21  8]\n",
            " [ 1 29]]\n",
            "Classification Report:\n",
            "               precision    recall  f1-score   support\n",
            "\n",
            "           0       0.95      0.72      0.82        29\n",
            "           1       0.78      0.97      0.87        30\n",
            "\n",
            "    accuracy                           0.85        59\n",
            "   macro avg       0.87      0.85      0.84        59\n",
            "weighted avg       0.87      0.85      0.84        59\n",
            "\n",
            "Precision, Recall, F1-Score (Micro)\n",
            "Precision: 0.847457627118644\n",
            "Recall: 0.847457627118644\n",
            "F1-Score: 0.847457627118644\n",
            "Confusion Matrix:\n",
            "[[21  8]\n",
            " [ 1 29]]\n"
          ]
        }
      ],
      "source": [
        "# accuracy score on training data\n",
        "X_test_prediction = knn_classifier.predict(X_test)\n",
        "test_data_accuracy = accuracy_score(Y_test, X_test_prediction)\n",
        "print('Accuracy score of test data : ', test_data_accuracy)\n",
        "\n",
        "y_pred = knn_classifier.predict(X_test)\n",
        "PRF_Micro = precision_recall_fscore_support(Y_test, y_pred, average='micro')\n",
        "PRF_Macro = precision_recall_fscore_support(Y_test, y_pred, average='macro')\n",
        "\n",
        "print(\"Accuracy:\", accuracy_score(Y_test, y_pred))\n",
        "print(\"Confusion Matrix:\\n\", confusion_matrix(Y_test, y_pred))\n",
        "print(\"Classification Report:\\n\", classification_report(Y_test, y_pred))\n",
        "print(\"Precision, Recall, F1-Score (Micro)\")\n",
        "print(\"Precision:\", PRF_Micro[0])\n",
        "print(\"Recall:\", PRF_Micro[1])\n",
        "print(\"F1-Score:\", PRF_Micro[2])\n",
        "\n",
        "conf_matrix = confusion_matrix(Y_test, y_pred)\n",
        "\n",
        "# Print confusion matrix\n",
        "print(\"Confusion Matrix:\")\n",
        "print(conf_matrix)\n",
        "\n",
        "\n",
        "\n",
        "import warnings\n",
        "warnings.filterwarnings(\"ignore\", category=UserWarning)"
      ]
    },
    {
      "cell_type": "markdown",
      "metadata": {
        "id": "QlR4JG4YMfOR"
      },
      "source": [
        "Building a Predictive System"
      ]
    },
    {
      "cell_type": "code",
      "execution_count": 21,
      "metadata": {
        "colab": {
          "base_uri": "https://localhost:8080/"
        },
        "id": "w0FjSoO1MGBU",
        "outputId": "a580be70-a46d-486c-a23f-401e4b4267e7"
      },
      "outputs": [
        {
          "data": {
            "text/plain": [
              "'input_data = input()\\ninput_list = input_data.split(\",\")\\ninput_data_as_numpy_array = np.array(input_list)\\n\\n#reshape the numpy array\\ninput_data_reshaped = input_data_as_numpy_array.reshape(1,-1)\\n\\n# standardize the data\\nstd_data = scaler.transform(input_data_reshaped)\\n\\nprediction = knn_classifier.predict(std_data)\\nprint(prediction)\\n\\n\\nif (prediction[0] == 0):\\n  print(\"The Person does not have Parkinsons Disease\")\\n\\nelse:\\n print(\"The Person has Parkinsons\")\\n'"
            ]
          },
          "execution_count": 21,
          "metadata": {},
          "output_type": "execute_result"
        }
      ],
      "source": [
        "import warnings\n",
        "warnings.filterwarnings(\"ignore\", category=UserWarning, module=\"sklearn\")\n",
        "#input_data = (197.07600,206.89600,192.05500,0.00289,0.00001,0.00166,0.00168,0.00498,0.01098,0.09700,0.00563,0.00680,0.00802,0.01689,0.00339,26.77500,0.422229,0.741367,-7.348300,0.177551,1.743867,0.085569\n",
        "\n",
        "#changing input data to a numpy array\n",
        "'''input_data = input()\n",
        "input_list = input_data.split(\",\")\n",
        "input_data_as_numpy_array = np.array(input_list)\n",
        "\n",
        "#reshape the numpy array\n",
        "input_data_reshaped = input_data_as_numpy_array.reshape(1,-1)\n",
        "\n",
        "# standardize the data\n",
        "std_data = scaler.transform(input_data_reshaped)\n",
        "\n",
        "prediction = knn_classifier.predict(std_data)\n",
        "print(prediction)\n",
        "\n",
        "\n",
        "if (prediction[0] == 0):\n",
        "  print(\"The Person does not have Parkinsons Disease\")\n",
        "\n",
        "else:\n",
        " print(\"The Person has Parkinsons\")\n",
        "'''"
      ]
    },
    {
      "cell_type": "code",
      "execution_count": 22,
      "metadata": {},
      "outputs": [
        {
          "data": {
            "image/png": "[encoded data removed]",
            "text/plain": [
              "<Figure size 800x600 with 2 Axes>"
            ]
          },
          "metadata": {},
          "output_type": "display_data"
        }
      ],
      "source": [
        "import tkinter as tk\n",
        "import re\n",
        "from tkinter import filedialog\n",
        "import numpy as np\n",
        "import seaborn as sns\n",
        "import matplotlib.pyplot as plt\n",
        "from matplotlib.backends.backend_tkagg import FigureCanvasTkAgg\n",
        "\n",
        "# Function to handle model prediction\n",
        "# Function to handle model prediction\n",
        "def run_prediction():\n",
        "    input_data = entry_var.get()\n",
        "    if input_data:\n",
        "        # Split the input data based on both commas and newlines\n",
        "        input_list = [float(value) for value in re.split(r',|\\n', input_data) if value.strip()]\n",
        "        input_data_as_numpy_array = np.array(input_list)\n",
        "\n",
        "        # Reshape the numpy array\n",
        "        input_data_reshaped = input_data_as_numpy_array.reshape(1, -1)\n",
        "\n",
        "        # Standardize the data\n",
        "        std_data = scaler.transform(input_data_reshaped)\n",
        "\n",
        "        prediction = knn_classifier.predict(std_data)\n",
        "\n",
        "        if prediction[0] == 0:\n",
        "            output_label.config(text=\"The Person does not have Parkinson's Disease\")\n",
        "        else:\n",
        "            output_label.config(text=\"The Person has Parkinson's\")\n",
        "\n",
        "        # Plot confusion matrix in GUI\n",
        "        plot_confusion_matrix()\n",
        "\n",
        "    else:\n",
        "        output_label.config(text=\"Please enter data first.\")\n",
        "\n",
        "\n",
        "\n",
        "# Function to plot the confusion matrix\n",
        "def plot_confusion_matrix():\n",
        "    # Assuming you have the `conf_matrix` variable available\n",
        "    fig, ax = plt.subplots(figsize=(8, 6))\n",
        "    sns.heatmap(conf_matrix, annot=True, fmt=\"d\", cmap=\"Blues\", xticklabels=[0, 1], yticklabels=[0, 1], ax=ax)\n",
        "    plt.title(\"Confusion Matrix\")\n",
        "    plt.xlabel(\"Predicted\")\n",
        "    plt.ylabel(\"Actual\")\n",
        "\n",
        "    # Embed the plot into Tkinter window\n",
        "    canvas = FigureCanvasTkAgg(fig, master=root)\n",
        "    canvas_widget = canvas.get_tk_widget()\n",
        "    canvas_widget.pack()\n",
        "\n",
        "\n",
        "# Create the main window\n",
        "root = tk.Tk()\n",
        "root.title(\"Parkinson's Disease Prediction\")\n",
        "\n",
        "# Input label and entry field\n",
        "input_label = tk.Label(root, text=\"Enter data (comma-separated):\")\n",
        "input_label.pack()\n",
        "entry_var = tk.StringVar()\n",
        "input_entry = tk.Entry(root, textvariable=entry_var)\n",
        "input_entry.pack()\n",
        "\n",
        "# Predict button\n",
        "predict_button = tk.Button(root, text=\"Predict\", command=run_prediction)\n",
        "predict_button.pack()\n",
        "\n",
        "# Output label for displaying prediction result\n",
        "output_label = tk.Label(root, text=\"\")\n",
        "output_label.pack()\n",
        "\n",
        "root.mainloop()\n",
        "\n"
      ]
    }
  ],
  "metadata": {
    "colab": {
      "provenance": []
    },
    "kernelspec": {
      "display_name": "Python 3",
      "name": "python3"
    },
    "language_info": {
      "codemirror_mode": {
        "name": "ipython",
        "version": 3
      },
      "file_extension": ".py",
      "mimetype": "text/x-python",
      "name": "python",
      "nbconvert_exporter": "python",
      "pygments_lexer": "ipython3",
      "version": "3.12.0"
    }
  },
  "nbformat": 4,
  "nbformat_minor": 0
}
